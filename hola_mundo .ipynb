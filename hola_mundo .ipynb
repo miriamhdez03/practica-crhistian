{
  "nbformat": 4,
  "nbformat_minor": 0,
  "metadata": {
    "colab": {
      "name": "hola mundo",
      "provenance": []
    },
    "kernelspec": {
      "name": "python3",
      "display_name": "Python 3"
    },
    "language_info": {
      "name": "python"
    }
  },
  "cells": [
    {
      "cell_type": "code",
      "execution_count": null,
      "metadata": {
        "colab": {
          "base_uri": "https://localhost:8080/"
        },
        "id": "cfioZ59eSRrV",
        "outputId": "81706fa8-151d-4719-f56f-60a68ec0e6be"
      },
      "outputs": [
        {
          "output_type": "stream",
          "name": "stdout",
          "text": [
            "['O', 'D', 'N', 'U', 'M', 'A', 'L', 'O', 'H']\n"
          ]
        }
      ],
      "source": [
        "j=8\n",
        "\n",
        "A=['H','O','L','A','M','U','N','D','O']\n",
        "#A=['O','D','N','U','M','A','L','O','H']\n",
        "#O=input('hola bienvenidos: ')\n",
        "for i in range(0,5):\n",
        "  vari=A [j]\n",
        "  A [j]=A[i]\n",
        "  A [i]=vari\n",
        "  j=j-1\n",
        "\n",
        "print(A)"
      ]
    },
    {
      "cell_type": "code",
      "source": [
        "h=[]\n",
        "S=int(input('Ingrese los numeros que decea ejecutar:'))\n",
        "for i in range(S):\n",
        "  h.append(int(input('Ingrese los valores de tu agrado: ')))\n",
        "for i in range(1,S):\n",
        "\n",
        "  for m in range(0,S-i):\n",
        "    if h[m]>h[m+1]:\n",
        "            aux=h[m]\n",
        "            h[m]=h[m+1]\n",
        "            h[m+1]=aux\n",
        "print(h)\n",
        "\n",
        "for i in range(0,S-i):\n",
        "    if h[i]<h[i-1]:\n",
        "            aux=h[i]\n",
        "            h[i]=h[i-1]\n",
        "            h[i+1]=aux\n",
        "print(h)\n",
        "\n"
      ],
      "metadata": {
        "colab": {
          "base_uri": "https://localhost:8080/"
        },
        "id": "cE3z1biZBDn3",
        "outputId": "a1af330f-2856-4dbb-9691-bf8f69b787cd"
      },
      "execution_count": null,
      "outputs": [
        {
          "output_type": "stream",
          "name": "stdout",
          "text": [
            "Ingrese los numeros que decea ejecutar:6\n",
            "Ingrese los valores de tu agrado: 1\n",
            "Ingrese los valores de tu agrado: 3\n",
            "Ingrese los valores de tu agrado: 7\n",
            "Ingrese los valores de tu agrado: 9\n",
            "Ingrese los valores de tu agrado: 4\n",
            "Ingrese los valores de tu agrado: 0\n",
            "[0, 1, 3, 4, 7, 9]\n",
            "[9, 0, 3, 4, 7, 9]\n"
          ]
        }
      ]
    }
  ]
}