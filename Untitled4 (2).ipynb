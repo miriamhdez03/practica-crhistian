{
  "nbformat": 4,
  "nbformat_minor": 0,
  "metadata": {
    "colab": {
      "name": "Untitled4.ipynb",
      "provenance": []
    },
    "kernelspec": {
      "name": "python3",
      "display_name": "Python 3"
    },
    "language_info": {
      "name": "python"
    }
  },
  "cells": [
    {
      "cell_type": "code",
      "execution_count": 10,
      "metadata": {
        "colab": {
          "base_uri": "https://localhost:8080/"
        },
        "id": "Ct-WPrFqttvs",
        "outputId": "3ba5eb8b-7c1c-41b9-b843-98d576565ad8"
      },
      "outputs": [
        {
          "output_type": "stream",
          "name": "stdout",
          "text": [
            "jugardor1 ingrese su opcion4\n",
            "jugador1 ingrese su opcion5\n",
            "gano jugador 4\n"
          ]
        }
      ],
      "source": [
        "#1.piedra\n",
        "#2.papel\n",
        "#3.tijera\n",
        "#4.lagarto\n",
        "#5.spock=\n",
        "\n",
        "jugador1=int(input(\"jugardor1 ingrese su opcion\"))\n",
        "jugador2=int(input(\"jugador1 ingrese su opcion\"))\n",
        "if((jugador1==1)and (jugador2==2)):\n",
        "  print(\"gano jugador 2\")\n",
        "elif((jugador1==1)and(jugador2==3)):\n",
        "  print(\"gano jugador 1\")\n",
        "elif((jugador1==1)and(jugador2==1)):\n",
        "  print(\"empate\")\n",
        "elif((jugador1==2)and(jugador2==3)):\n",
        "  print(\"gano jugador 2\")\n",
        "elif((jugador1==2)and(jugador2==1)):\n",
        "  print(\"gano jugador 1\")\n",
        "elif((jugador1==2)and(jugador2==2)):\n",
        "  print(\"empate\")\n",
        "elif((jugador1==3)and(jugador2==1)):\n",
        "  print(\"gana jugador 2\")\n",
        "elif((jugador1==3)and(jugador2==2)):\n",
        "  print(\"gano jugador 1\")\n",
        "elif((jugador1==3)and(jugador2==3)):\n",
        "  print(\"empate\")\n",
        "elif((jugador1==3)and (jugador2==2)):\n",
        "  print(\"gano jugador 3\")\n",
        "elif((jugador1==2)and(jugador2==1)):\n",
        "  print(\"gano jugador 2\")\n",
        "elif((jugador1==1)and(jugador2==4)):\n",
        "  print(\"gana piedra\")\n",
        "elif((jugador1==4)and(jugador2==5)):\n",
        "  print(\"gano jugador 4\")\n",
        "elif((jugador1==5)and(jugador2==3)):\n",
        "  print(\"gano jugador 5\")\n",
        "elif((jugador1==3)and(jugador2==4)):\n",
        "  print(\"gana juigador 3\")\n",
        "elif((jugador1==4)and(jugador2==2)):\n",
        "  print(\"gana jugador 4\")\n",
        "elif((jugador1==2)and(jugador2==5)):\n",
        "  print(\"gano jugador 2\")\n",
        "elif((jugador1==5)and(jugador2==1)):\n",
        "  print(\"gana jugador 5\")\n",
        "elif((jugador1==1)and(jugador2==3)):\n",
        "  print(\"gana jugador 1\")"
      ]
    }
  ]
}