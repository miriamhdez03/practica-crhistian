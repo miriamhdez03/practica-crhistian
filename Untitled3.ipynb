{
  "nbformat": 4,
  "nbformat_minor": 0,
  "metadata": {
    "colab": {
      "name": "Untitled3.ipynb",
      "provenance": []
    },
    "kernelspec": {
      "name": "python3",
      "display_name": "Python 3"
    },
    "language_info": {
      "name": "python"
    }
  },
  "cells": [
    {
      "cell_type": "code",
      "execution_count": 10,
      "metadata": {
        "colab": {
          "base_uri": "https://localhost:8080/"
        },
        "id": "hn9a2kJyn8o9",
        "outputId": "b49e9fea-2e79-48b0-ca30-b1687108ca5d"
      },
      "outputs": [
        {
          "name": "stdout",
          "output_type": "stream",
          "text": [
            "inserta el primer numero: 67\n",
            "inserta el primer numero: 89\n",
            "que operacion quieres realizar? 2\n"
          ]
        }
      ],
      "source": [
        "num1=int(input('inserta el primer numero: '))\n",
        "num2=int(input('inserta el primer numero: '))\n",
        "operacion=int(input('que operacion quieres realizar? '))\n",
        "#1 suma\n",
        "#2 resta\n",
        "#3 multiplicacion\n",
        "#4 division\n",
        "\n",
        "if(operacion==1):\n",
        "  total=num1+num2\n",
        "elif(operacion==2):\n",
        "  total=num1-num2\n",
        "elif(operacion==3):\n",
        "  total=num1*num2\n",
        "elif(operacion==4):\n",
        "  total=num1/num2\n",
        "\n",
        "  print(total)"
      ]
    }
  ]
}