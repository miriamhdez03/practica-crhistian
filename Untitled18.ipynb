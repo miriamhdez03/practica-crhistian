{
  "nbformat": 4,
  "nbformat_minor": 0,
  "metadata": {
    "colab": {
      "name": "Untitled18.ipynb",
      "provenance": []
    },
    "kernelspec": {
      "name": "python3",
      "display_name": "Python 3"
    },
    "language_info": {
      "name": "python"
    }
  },
  "cells": [
    {
      "cell_type": "code",
      "source": [
        "num=[]\n",
        "S=int(input('Ingresa la cantidad de numeros a calcular: '))\n",
        "for i in range(S):\n",
        "    num.append(int(input('Ingrese el valor del elemento ')))\n",
        "for i in range(1,S):\n",
        "  for j in range(0,S-i):\n",
        "    if num[j]>num[j+1]:\n",
        "            aux=num[j]\n",
        "            num[j]=num[j+1]\n",
        "            num[j+1]=aux\n",
        "print(num)\n",
        "if num[j]<num[j-1]:\n",
        "            aux=num[j]\n",
        "            num[j]=num[j-1]\n",
        "            num[j-1]=aux\n",
        "print(num)\n",
        "\n",
        "num=[]\n"
      ],
      "metadata": {
        "colab": {
          "base_uri": "https://localhost:8080/"
        },
        "id": "P_wBLjthRpC8",
        "outputId": "a56acd96-39c9-404e-88ff-eeff52345703"
      },
      "execution_count": 14,
      "outputs": [
        {
          "output_type": "stream",
          "name": "stdout",
          "text": [
            "Ingresa la cantidad de numeros a calcular: 51\n",
            "Ingrese el valor del elemento 1\n",
            "Ingrese el valor del elemento 2\n",
            "Ingrese el valor del elemento 3\n",
            "Ingrese el valor del elemento 4\n",
            "Ingrese el valor del elemento 5\n",
            "Ingrese el valor del elemento 6\n",
            "Ingrese el valor del elemento 7\n",
            "Ingrese el valor del elemento 8\n",
            "Ingrese el valor del elemento 9\n",
            "Ingrese el valor del elemento 10\n",
            "Ingrese el valor del elemento 11\n",
            "Ingrese el valor del elemento 12\n",
            "Ingrese el valor del elemento 13\n",
            "Ingrese el valor del elemento 14\n",
            "Ingrese el valor del elemento 15\n",
            "Ingrese el valor del elemento 16\n",
            "Ingrese el valor del elemento 17\n",
            "Ingrese el valor del elemento 18\n",
            "Ingrese el valor del elemento 18\n",
            "Ingrese el valor del elemento 19\n",
            "Ingrese el valor del elemento 20\n",
            "Ingrese el valor del elemento 21\n",
            "Ingrese el valor del elemento 22\n",
            "Ingrese el valor del elemento 23\n",
            "Ingrese el valor del elemento 24\n",
            "Ingrese el valor del elemento 25\n",
            "Ingrese el valor del elemento 26\n",
            "Ingrese el valor del elemento 27\n",
            "Ingrese el valor del elemento 28\n",
            "Ingrese el valor del elemento 29\n",
            "Ingrese el valor del elemento 30\n",
            "Ingrese el valor del elemento 31\n",
            "Ingrese el valor del elemento 33\n",
            "Ingrese el valor del elemento 32\n",
            "Ingrese el valor del elemento 34\n",
            "Ingrese el valor del elemento 35\n",
            "Ingrese el valor del elemento 36\n",
            "Ingrese el valor del elemento 37\n",
            "Ingrese el valor del elemento 38\n",
            "Ingrese el valor del elemento 39\n",
            "Ingrese el valor del elemento 40\n",
            "Ingrese el valor del elemento 41\n",
            "Ingrese el valor del elemento 42\n",
            "Ingrese el valor del elemento 43\n",
            "Ingrese el valor del elemento 44\n",
            "Ingrese el valor del elemento 45\n",
            "Ingrese el valor del elemento 46\n",
            "Ingrese el valor del elemento 47\n",
            "Ingrese el valor del elemento 48\n",
            "Ingrese el valor del elemento 49\n",
            "Ingrese el valor del elemento 50\n",
            "[1, 2, 3, 4, 5, 6, 7, 8, 9, 10, 11, 12, 13, 14, 15, 16, 17, 18, 18, 19, 20, 21, 22, 23, 24, 25, 26, 27, 28, 29, 30, 31, 32, 33, 34, 35, 36, 37, 38, 39, 40, 41, 42, 43, 44, 45, 46, 47, 48, 49, 50]\n",
            "[50, 2, 3, 4, 5, 6, 7, 8, 9, 10, 11, 12, 13, 14, 15, 16, 17, 18, 18, 19, 20, 21, 22, 23, 24, 25, 26, 27, 28, 29, 30, 31, 32, 33, 34, 35, 36, 37, 38, 39, 40, 41, 42, 43, 44, 45, 46, 47, 48, 49, 1]\n"
          ]
        }
      ]
    }
  ]
}