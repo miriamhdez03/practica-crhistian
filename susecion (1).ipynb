{
  "nbformat": 4,
  "nbformat_minor": 0,
  "metadata": {
    "colab": {
      "name": "susecion",
      "provenance": []
    },
    "kernelspec": {
      "name": "python3",
      "display_name": "Python 3"
    },
    "language_info": {
      "name": "python"
    }
  },
  "cells": [
    {
      "cell_type": "code",
      "execution_count": 1,
      "metadata": {
        "id": "ZhFPMY-h0Aum",
        "outputId": "a99ad793-c157-4702-adbe-26e19fb5a295",
        "colab": {
          "base_uri": "https://localhost:8080/"
        }
      },
      "outputs": [
        {
          "output_type": "stream",
          "name": "stdout",
          "text": [
            "Ingresa el numero: 8\n",
            "0\n",
            "1\n",
            "1\n",
            "2\n",
            "3\n",
            "5\n",
            "8\n",
            "13\n"
          ]
        }
      ],
      "source": [
        "a=0\n",
        "b=1\n",
        "n=int(input('Ingresa el numero: '))\n",
        "if n==0:\n",
        "  print(a)\n",
        "elif n==1:\n",
        "  print(a,b)\n",
        "elif(n>2):\n",
        "  print(a)\n",
        "  print(b)\n",
        "  for i in range(n-2):\n",
        "    total= a + b\n",
        "    a=b\n",
        "    b=total\n",
        "    print(total)"
      ]
    }
  ]
}