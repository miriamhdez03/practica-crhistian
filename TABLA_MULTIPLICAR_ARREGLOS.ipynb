{
  "nbformat": 4,
  "nbformat_minor": 0,
  "metadata": {
    "colab": {
      "name": "TABLA MULTIPLICAR ARREGLOS",
      "provenance": []
    },
    "kernelspec": {
      "name": "python3",
      "display_name": "Python 3"
    },
    "language_info": {
      "name": "python"
    }
  },
  "cells": [
    {
      "cell_type": "code",
      "execution_count": null,
      "metadata": {
        "id": "y8seQO1bKRKO",
        "outputId": "3aeb2c08-3f48-4236-e706-b242454d2176",
        "colab": {
          "base_uri": "https://localhost:8080/"
        }
      },
      "outputs": [
        {
          "output_type": "stream",
          "name": "stdout",
          "text": [
            "ingresa la tabla desea ver:7\n",
            "7 * 1 = 7\n",
            "7 * 2 = 14\n",
            "7 * 3 = 21\n",
            "7 * 4 = 28\n",
            "7 * 5 = 35\n",
            "7 * 6 = 42\n",
            "7 * 7 = 49\n",
            "7 * 8 = 56\n",
            "7 * 9 = 63\n",
            "7 * 10 = 70\n",
            "7 * 11 = 77\n"
          ]
        }
      ],
      "source": [
        "u=[]\n",
        "s=int(input('ingresa la tabla desea ver:'))\n",
        "for i in range(0,11):\n",
        "  Tabla=s*(i+1)\n",
        "  u.append(Tabla)\n",
        "  print(s, \"*\", (i+1), \"=\", u[i])"
      ]
    }
  ]
}