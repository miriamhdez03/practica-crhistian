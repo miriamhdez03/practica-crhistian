{
  "nbformat": 4,
  "nbformat_minor": 0,
  "metadata": {
    "colab": {
      "name": "trabajo.ipynb",
      "provenance": []
    },
    "kernelspec": {
      "name": "python3",
      "display_name": "Python 3"
    },
    "language_info": {
      "name": "python"
    }
  },
  "cells": [
    {
      "cell_type": "code",
      "source": [
        "#cali=0\n",
        "Tot_hom=0\n",
        "Tot_muj=0\n",
        "Cali_h=0\n",
        "Cali_m=0\n",
        "Prome_h=0\n",
        "Prome_m=0\n",
        "M=int(input(\"Ingresa el número de filas: \"))\n",
        "S=int(input(\"Ingresa el número de columnas: \"))\n",
        "A=[]\n",
        "valor=\"\"\n",
        "for i in range(0,S):\n",
        "  A.append([0]*M)\n",
        "\n",
        "for i in range(0,S):\n",
        "  for j in range(0,M):\n",
        "    if (j==0):\n",
        "      valor=\"numero de control\"\n",
        "    elif(j==1):\n",
        "      valor=\"nombre del alumno\"\n",
        "    elif(j==2):\n",
        "      valor=\"Genero\"\n",
        "    elif(j==3):\n",
        "      valor=\"Calificacion\"\n",
        "    A[i][j]=input(\"Datos \"+valor+ \": \" )\n",
        "\n",
        "for i in range(0,S):\n",
        "  #print(A[i][3]) #Calificaciones\n",
        "  #print(A[i][2]) #Genero\n",
        "\n",
        "  if(A[i][2]=='H'):\n",
        "    Tot_hom=Tot_hom+1\n",
        "    Cali_h=Cali_h+int(A[i][3])\n",
        "\n",
        "  if(A[i][2]=='M'):\n",
        "    Tot_muj=Tot_muj+1\n",
        "    Cali_m=Cali_m+int(A[i][3])\n",
        "    \n",
        "Prome_h=Cali_h/Tot_hom\n",
        "Prome_m=Cali_m/Tot_muj\n",
        "print(\"Promedio de Hombres\",Prome_h)\n",
        "print(\"Promedio de Mujeres\",Prome_m)\n",
        "print(A)"
      ],
      "metadata": {
        "colab": {
          "base_uri": "https://localhost:8080/"
        },
        "id": "cCHAE8j9fNmT",
        "outputId": "6eb4c9dd-dd0a-4283-8032-d18cde00f6ee"
      },
      "execution_count": 10,
      "outputs": [
        {
          "output_type": "stream",
          "name": "stdout",
          "text": [
            "Ingresa el número de filas: 4\n",
            "Ingresa el número de columnas: 3\n",
            "Datos numero de control: 43648\n",
            "Datos nombre del alumno: miriam\n",
            "Datos Genero: M\n",
            "Datos Calificacion: 9\n",
            "Datos numero de control: 5640276\n",
            "Datos nombre del alumno: jesus\n",
            "Datos Genero: H\n",
            "Datos Calificacion: 10\n",
            "Datos numero de control: 730289\n",
            "Datos nombre del alumno: ariana\n",
            "Datos Genero: M\n",
            "Datos Calificacion: 9\n",
            "Promedio de Hombres 10.0\n",
            "Promedio de Mujeres 9.0\n",
            "[['43648', 'miriam', 'M', '9'], ['5640276', 'jesus', 'H', '10'], ['730289', 'ariana', 'M', '9']]\n"
          ]
        }
      ]
    }
  ]
}