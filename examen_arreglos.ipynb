{
  "cells": [
    {
      "cell_type": "code",
      "execution_count": null,
      "metadata": {
        "id": "lQxou2YchWVl",
        "colab": {
          "base_uri": "https://localhost:8080/",
          "height": 426
        },
        "outputId": "10053404-b68e-45e5-e815-8f037b31fdf4"
      },
      "outputs": [
        {
          "output_type": "stream",
          "name": "stdout",
          "text": [
            "Ingrese el rango:4\n",
            "Ingresa un numero cualquiera: 3\n",
            "Ingresa un numero cualquiera: 2\n",
            "Ingresa un numero cualquiera: 3\n",
            "Ingresa un numero cualquiera: 4\n",
            " \n",
            "--arreglo de mayor a menor--\n",
            "[4, 3, 3, 2]\n",
            " \n",
            "--arreglo de menor a mayor--\n",
            "[2, 4, 3, 3]\n",
            "\n",
            "--arreglo de multiplicacion--\n"
          ]
        },
        {
          "output_type": "error",
          "ename": "TypeError",
          "evalue": "ignored",
          "traceback": [
            "\u001b[0;31m---------------------------------------------------------------------------\u001b[0m",
            "\u001b[0;31mTypeError\u001b[0m                                 Traceback (most recent call last)",
            "\u001b[0;32m<ipython-input-19-4201d3a8907b>\u001b[0m in \u001b[0;36m<module>\u001b[0;34m()\u001b[0m\n\u001b[1;32m     25\u001b[0m \u001b[0mprint\u001b[0m\u001b[0;34m(\u001b[0m\u001b[0;34m\"--arreglo de multiplicacion--\"\u001b[0m\u001b[0;34m)\u001b[0m\u001b[0;34m\u001b[0m\u001b[0;34m\u001b[0m\u001b[0m\n\u001b[1;32m     26\u001b[0m \u001b[0;32mfor\u001b[0m \u001b[0mi\u001b[0m \u001b[0;32min\u001b[0m \u001b[0mrange\u001b[0m\u001b[0;34m(\u001b[0m\u001b[0;36m0\u001b[0m\u001b[0;34m,\u001b[0m\u001b[0mS\u001b[0m\u001b[0;34m)\u001b[0m\u001b[0;34m:\u001b[0m\u001b[0;34m\u001b[0m\u001b[0;34m\u001b[0m\u001b[0m\n\u001b[0;32m---> 27\u001b[0;31m   \u001b[0mprint\u001b[0m\u001b[0;34m(\u001b[0m\u001b[0mA\u001b[0m\u001b[0;34m[\u001b[0m\u001b[0mi\u001b[0m\u001b[0;34m]\u001b[0m\u001b[0;34m,\u001b[0m \u001b[0;34m\"*\"\u001b[0m\u001b[0;34m,\u001b[0m \u001b[0mB\u001b[0m\u001b[0;34m[\u001b[0m\u001b[0mi\u001b[0m\u001b[0;34m]\u001b[0m\u001b[0;34m,\u001b[0m \u001b[0;34m\"=\"\u001b[0m\u001b[0;34m,\u001b[0m \u001b[0mB\u001b[0m\u001b[0;34m[\u001b[0m\u001b[0mi\u001b[0m\u001b[0;34m]\u001b[0m\u001b[0;34m*\u001b[0m\u001b[0mA\u001b[0m\u001b[0;34m[\u001b[0m\u001b[0mi\u001b[0m\u001b[0;34m]\u001b[0m\u001b[0;34m)\u001b[0m\u001b[0;34m\u001b[0m\u001b[0;34m\u001b[0m\u001b[0m\n\u001b[0m",
            "\u001b[0;31mTypeError\u001b[0m: 'int' object is not subscriptable"
          ]
        }
      ],
      "source": [
        "A=[]\n",
        "B=0\n",
        "C=0\n",
        "S=int(input(\"Ingrese el rango:\"))\n",
        "for i in range(0,S):\n",
        "  A.append(int(input(\"Ingresa un numero cualquiera: \")))\n",
        "for i in range(1,S):\n",
        "  for h in range(0,S-i):\n",
        "    if(A[h]<A[h+1]):\n",
        "      var=A[h]\n",
        "      A[h]=A[h+1]\n",
        "      A[h+1]=var\n",
        "print(\" \")\n",
        "print(\"--arreglo de mayor a menor--\")\n",
        "print(A)\n",
        "for i in range(0,S):\n",
        "  Var=A[B]\n",
        "  A[B]=A[i]\n",
        "  A[i]=Var\n",
        "  B=B-B\n",
        "print(\" \")\n",
        "print(\"--arreglo de menor a mayor--\")\n",
        "print(A)\n",
        "print(\"\")\n",
        "print(\"--arreglo de multiplicacion--\")\n",
        "for i in range(0,S):\n",
        "  print(A[i], \"*\", B[i], \"=\", B[i]*A[i])"
      ]
    }
  ],
  "metadata": {
    "colab": {
      "collapsed_sections": [],
      "name": "examen arreglos",
      "provenance": []
    },
    "kernelspec": {
      "display_name": "Python 3",
      "name": "python3"
    },
    "language_info": {
      "name": "python"
    }
  },
  "nbformat": 4,
  "nbformat_minor": 0
}