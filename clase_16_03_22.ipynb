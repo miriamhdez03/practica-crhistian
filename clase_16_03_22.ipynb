{
  "nbformat": 4,
  "nbformat_minor": 0,
  "metadata": {
    "colab": {
      "name": "clase 16/03/22",
      "provenance": []
    },
    "kernelspec": {
      "name": "python3",
      "display_name": "Python 3"
    },
    "language_info": {
      "name": "python"
    }
  },
  "cells": [
    {
      "cell_type": "code",
      "source": [
        "#Se establece el tamaño del arreglo\n",
        "m=int(input(\"Ingresa el número de filas: \")) #Filas\n",
        "n=int(input(\"Ingresa el número de columnas: \")) #Columnas\n",
        "\n",
        "#Se crea el arreglo\n",
        "A=[]\n",
        "\n",
        "#Se crea una variable para establecer si es de Netflix o de Disney + que inicia vacía\n",
        "valor=\"\"\n",
        "\n",
        "#Se inicializa el arreglo, es un proceso necesario para los arreglos bidimensionales\n",
        "for i in range(m):\n",
        "  A.append([0]*n)\n",
        "\n",
        "#Inicia el proceso de llenado del arreglo bidimensional\n",
        "for i in range (m):\n",
        "\n",
        "  #Este if es auxiliar solamente para mostrar Netflix o Disney + en la captura\n",
        "  if (i==0):\n",
        "    valor=\"Netflix\"\n",
        "  else:\n",
        "    valor=\"Disney +\"\n",
        "\n",
        "  for j in range (n):\n",
        "    #Así se llena el arreglo bidimensional\n",
        "    A[i][j]=input(\"Introduzca la serie \"+str(j+1)+\" de \"+valor+\": \")\n",
        "\n",
        "#Se imprime el arreglo bidimensional\n",
        "print(A)"
      ],
      "metadata": {
        "colab": {
          "base_uri": "https://localhost:8080/"
        },
        "id": "0958mA_mN4wc",
        "outputId": "caaa89e6-5ecf-44f4-ebc8-b2c022edfe3b"
      },
      "execution_count": null,
      "outputs": [
        {
          "output_type": "stream",
          "name": "stdout",
          "text": [
            "Ingresa el número de filas: 2\n",
            "Ingresa el número de columnas: 2\n",
            "Introduzca la serie 1 de Netflix: holi\n",
            "Introduzca la serie 2 de Netflix: hola\n",
            "Introduzca la serie 1 de Disney +: mimi\n",
            "Introduzca la serie 2 de Disney +: jiji\n",
            "[['holi', 'hola'], ['mimi', 'jiji']]\n"
          ]
        }
      ]
    },
    {
      "cell_type": "code",
      "source": [
        "n=int(input(\"Ingresa el número de columnas: \")) #Columnas\n",
        "m=int(input(\"Ingresa el número de filas: \")) #Filas\n",
        "A=[]\n",
        "valor=\"\"\n",
        "for i in range(m):\n",
        "  A.append(int(input(\"Ingresa el numero de control: \")))\n",
        "  for i in range(0,m):\n",
        "    for i in range(m):\n",
        "      A.append(int(input(\"Ingresa el nombre del alumno: \")))\n",
        "      for i in range(0,m):\n",
        "        for i in range(m):\n",
        "          A.append(int(input(\"Ingresa la calificacion del alumno: \")))\n",
        "          for i in range(0,m):\n",
        "            for i in range(m):\n",
        "              A.append(int(input(\"Ingresa el genero del alumno: \")))\n",
        "              for i in range(0,m):\n",
        "                for j in range (n):\n",
        "                  A[i][j]=input(\"Introduzca la serie \"+str(j+1)+\" de \"+valor+\": \")\n",
        "print(A)\n"
      ],
      "metadata": {
        "colab": {
          "base_uri": "https://localhost:8080/",
          "height": 293
        },
        "id": "ixdA2WxuRv_L",
        "outputId": "d0e55bb7-4626-40f4-900b-4c8454f9bb94"
      },
      "execution_count": null,
      "outputs": [
        {
          "name": "stdout",
          "output_type": "stream",
          "text": [
            "Ingresa el número de columnas: 2\n",
            "Ingresa el número de filas: 2\n",
            "Ingresa el numero de control: dfcgvhjk\n"
          ]
        },
        {
          "output_type": "error",
          "ename": "ValueError",
          "evalue": "ignored",
          "traceback": [
            "\u001b[0;31m---------------------------------------------------------------------------\u001b[0m",
            "\u001b[0;31mValueError\u001b[0m                                Traceback (most recent call last)",
            "\u001b[0;32m<ipython-input-2-4d81670d3c30>\u001b[0m in \u001b[0;36m<module>\u001b[0;34m()\u001b[0m\n\u001b[1;32m      4\u001b[0m \u001b[0mvalor\u001b[0m\u001b[0;34m=\u001b[0m\u001b[0;34m\"\"\u001b[0m\u001b[0;34m\u001b[0m\u001b[0;34m\u001b[0m\u001b[0m\n\u001b[1;32m      5\u001b[0m \u001b[0;32mfor\u001b[0m \u001b[0mi\u001b[0m \u001b[0;32min\u001b[0m \u001b[0mrange\u001b[0m\u001b[0;34m(\u001b[0m\u001b[0mm\u001b[0m\u001b[0;34m)\u001b[0m\u001b[0;34m:\u001b[0m\u001b[0;34m\u001b[0m\u001b[0;34m\u001b[0m\u001b[0m\n\u001b[0;32m----> 6\u001b[0;31m   \u001b[0mA\u001b[0m\u001b[0;34m.\u001b[0m\u001b[0mappend\u001b[0m\u001b[0;34m(\u001b[0m\u001b[0mint\u001b[0m\u001b[0;34m(\u001b[0m\u001b[0minput\u001b[0m\u001b[0;34m(\u001b[0m\u001b[0;34m\"Ingresa el numero de control: \"\u001b[0m\u001b[0;34m)\u001b[0m\u001b[0;34m)\u001b[0m\u001b[0;34m)\u001b[0m\u001b[0;34m\u001b[0m\u001b[0;34m\u001b[0m\u001b[0m\n\u001b[0m\u001b[1;32m      7\u001b[0m   \u001b[0;32mfor\u001b[0m \u001b[0mi\u001b[0m \u001b[0;32min\u001b[0m \u001b[0mrange\u001b[0m\u001b[0;34m(\u001b[0m\u001b[0;36m0\u001b[0m\u001b[0;34m,\u001b[0m\u001b[0mm\u001b[0m\u001b[0;34m)\u001b[0m\u001b[0;34m:\u001b[0m\u001b[0;34m\u001b[0m\u001b[0;34m\u001b[0m\u001b[0m\n\u001b[1;32m      8\u001b[0m     \u001b[0;32mfor\u001b[0m \u001b[0mi\u001b[0m \u001b[0;32min\u001b[0m \u001b[0mrange\u001b[0m\u001b[0;34m(\u001b[0m\u001b[0mm\u001b[0m\u001b[0;34m)\u001b[0m\u001b[0;34m:\u001b[0m\u001b[0;34m\u001b[0m\u001b[0;34m\u001b[0m\u001b[0m\n",
            "\u001b[0;31mValueError\u001b[0m: invalid literal for int() with base 10: 'dfcgvhjk'"
          ]
        }
      ]
    }
  ]
}